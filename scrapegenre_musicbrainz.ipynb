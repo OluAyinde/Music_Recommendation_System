{
 "cells": [
  {
   "cell_type": "code",
   "execution_count": null,
   "metadata": {},
   "outputs": [],
   "source": [
    "import requests\n",
    "import csv\n",
    "from time import sleep\n",
    "\n",
    "def get_artist_genre_musicbrainz(artist_name):\n",
    "    base_url = \"https://musicbrainz.org/ws/2/artist/\"\n",
    "    headers = {'User-Agent': 'GenreFinder/1.0 (your_email@example.com)'}  # Required!\n",
    "    params = {\n",
    "        'query': f'artist:\"{artist_name}\"',\n",
    "        'fmt': 'json',\n",
    "        'limit': 1\n",
    "    }\n",
    "    \n",
    "    try:\n",
    "        # First try: Exact match\n",
    "        response = requests.get(base_url, headers=headers, params=params, timeout=10)\n",
    "        response.raise_for_status()\n",
    "        data = response.json()\n",
    "        \n",
    "        # Second try: Fuzzy match if no results\n",
    "        if not data.get('artists'):\n",
    "            params['query'] = artist_name  # Remove exact match quotes\n",
    "            response = requests.get(base_url, headers=headers, params=params, timeout=10)\n",
    "            data = response.json()\n",
    "        \n",
    "        # Extract genres\n",
    "        if data.get('artists'):\n",
    "            tags = [tag['name'] for tag in data['artists'][0].get('tags', [])]\n",
    "            return tags[:3] if tags else ['No genres tagged']\n",
    "        return ['Artist not found']\n",
    "    \n",
    "    except Exception as e:\n",
    "        return [f'API Error: {str(e)}']\n",
    "\n",
    "def process_csv(input_file, output_file):\n",
    "    with open(input_file, 'r', encoding='utf-8') as infile, \\\n",
    "         open(output_file, 'w', encoding='utf-8', newline='') as outfile:\n",
    "        \n",
    "        reader = csv.reader(infile)\n",
    "        writer = csv.writer(outfile)\n",
    "        writer.writerow(['Artist', 'Genres'])\n",
    "        \n",
    "        for row in reader:\n",
    "            artist = row[0].strip()\n",
    "            if artist:\n",
    "                print(f\"Processing: {artist}\")\n",
    "                genres = get_artist_genre_musicbrainz(artist)\n",
    "                writer.writerow([artist, ', '.join(genres)])\n",
    "                sleep(1.2)  # Respect rate limits\n",
    "\n",
    "# Usage\n",
    "process_csv('/Users/oluayinde/Downloads/youtube_data - artists.csv', '/Users/oluayinde/Downloads/artists_genres_musicbrainz.csv')"
   ]
  }
 ],
 "metadata": {
  "kernelspec": {
   "display_name": "Python 3",
   "language": "python",
   "name": "python3"
  },
  "language_info": {
   "codemirror_mode": {
    "name": "ipython",
    "version": 3
   },
   "file_extension": ".py",
   "mimetype": "text/x-python",
   "name": "python",
   "nbconvert_exporter": "python",
   "pygments_lexer": "ipython3",
   "version": "3.9.21"
  }
 },
 "nbformat": 4,
 "nbformat_minor": 2
}
