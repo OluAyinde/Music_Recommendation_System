{
 "cells": [
  {
   "cell_type": "markdown",
   "metadata": {},
   "source": [
    "### Music Recommendation System - Youtube Data"
   ]
  },
  {
   "cell_type": "markdown",
   "metadata": {},
   "source": [
    "#### Import Libraries"
   ]
  },
  {
   "cell_type": "code",
   "execution_count": 1,
   "metadata": {},
   "outputs": [],
   "source": [
    "#Import required libraries\n",
    "import numpy as np\n",
    "import pandas as pd\n",
    "import sklearn\n",
    "from scipy.sparse import csr_matrix\n",
    "from sklearn.neighbors import NearestNeighbors\n",
    "import matplotlib.pyplot as plt\n",
    "import seaborn as sns\n",
    "import warnings\n",
    "warnings.simplefilter(action='ignore', category=FutureWarning)"
   ]
  },
  {
   "cell_type": "markdown",
   "metadata": {},
   "source": [
    "#### Load the Dataset"
   ]
  },
  {
   "cell_type": "code",
   "execution_count": 2,
   "metadata": {},
   "outputs": [
    {
     "name": "stdout",
     "output_type": "stream",
     "text": [
      "   userId  musicId  rating  likes\n",
      "0      35        1     5.0      3\n",
      "1      43        1     5.0      3\n",
      "2      57        1     5.0      3\n",
      "3      72        1     5.0      3\n",
      "4     132        1     5.0      3\n"
     ]
    }
   ],
   "source": [
    "#Load rating dataset\n",
    "url = \"https://docs.google.com/spreadsheets/d/e/2PACX-1vRO7Ioi4w6UHtRcu_wcyiAz6AzPUvllvbbASoLbV5QvpdZZqkhXAINRHdZqEoIoDHGFKo_dwHAGKtCi/pub?gid=1176714543&single=true&output=csv\"\n",
    "ratings = pd.read_csv(url)\n",
    "print(ratings.head())"
   ]
  },
  {
   "cell_type": "code",
   "execution_count": 3,
   "metadata": {},
   "outputs": [
    {
     "name": "stdout",
     "output_type": "stream",
     "text": [
      "   musicId                                              title  \\\n",
      "0        1                         Despacito ft. Daddy Yankee   \n",
      "1        2  See You Again ft. Charlie Puth [Official Video...   \n",
      "2        3                Shape of You (Official Music Video)   \n",
      "3        4                                      GANGNAM STYLE   \n",
      "4        5        Uptown Funk (Official Video) ft. Bruno Mars   \n",
      "\n",
      "                                           genre       artist          views  \\\n",
      "0                                          Latin   Luis Fonsi  8,695,428,918   \n",
      "1                                            Rap  Wiz Khalifa  6,633,646,261   \n",
      "2  Pop|Folk Pop|Dance-Pop|Folk|Singer-Songwriter   Ed Sheeran  6,443,757,340   \n",
      "3                            Hiphop|Kpop|Pop Rap          Psy  5,542,341,741   \n",
      "4                      Rock|Pop|Alternative Rock  Mark Ronson  5,536,545,460   \n",
      "\n",
      "   year  \n",
      "0  2017  \n",
      "1  2015  \n",
      "2  2017  \n",
      "3  2012  \n",
      "4  2014  \n"
     ]
    }
   ],
   "source": [
    "#Load music dataset\n",
    "url = \"https://docs.google.com/spreadsheets/d/e/2PACX-1vRO7Ioi4w6UHtRcu_wcyiAz6AzPUvllvbbASoLbV5QvpdZZqkhXAINRHdZqEoIoDHGFKo_dwHAGKtCi/pub?gid=0&single=true&output=csv\"\n",
    "music = pd.read_csv(url)\n",
    "print(music.head())"
   ]
  },
  {
   "cell_type": "markdown",
   "metadata": {},
   "source": [
    "#### Statistical Checks"
   ]
  },
  {
   "cell_type": "code",
   "execution_count": 4,
   "metadata": {},
   "outputs": [
    {
     "name": "stdout",
     "output_type": "stream",
     "text": [
      "Number of ratings: 51472\n",
      "Number of unique musicId's: 4830\n",
      "Number of unique users: 325\n",
      "Average ratings per user: 158.38\n",
      "Average ratings per song: 10.66\n"
     ]
    }
   ],
   "source": [
    "#Brief Stat Check\n",
    "n_ratings = len(ratings) #number of ratings\n",
    "n_songs = len(ratings['musicId'].unique()) #number of songs\n",
    "n_users = len(ratings['userId'].unique()) #number of unique users\n",
    "\n",
    "print(f\"Number of ratings: {n_ratings}\")\n",
    "print(f\"Number of unique musicId's: {n_songs}\")\n",
    "print(f\"Number of unique users: {n_users}\")\n",
    "print(f\"Average ratings per user: {round(n_ratings/n_users, 2)}\")\n",
    "print(f\"Average ratings per song: {round(n_ratings/n_songs, 2)}\")"
   ]
  },
  {
   "cell_type": "code",
   "execution_count": 5,
   "metadata": {},
   "outputs": [
    {
     "name": "stdout",
     "output_type": "stream",
     "text": [
      "   userId  n_ratings\n",
      "0       1        160\n",
      "1       2        161\n",
      "2       3        161\n",
      "3       4        163\n",
      "4       5        155\n"
     ]
    }
   ],
   "source": [
    "#User Rating Frequency\n",
    "user_freq = ratings[['userId', 'musicId']].groupby(\n",
    "    'userId').count().reset_index()\n",
    "user_freq.columns = ['userId', 'n_ratings']\n",
    "print(user_freq.head())"
   ]
  },
  {
   "cell_type": "code",
   "execution_count": 6,
   "metadata": {},
   "outputs": [
    {
     "name": "stdout",
     "output_type": "stream",
     "text": [
      "   userId  musicId  rating  likes\n",
      "0      35        1     5.0      3\n",
      "1      43        1     5.0      3\n",
      "2      57        1     5.0      3\n",
      "3      72        1     5.0      3\n",
      "4     132        1     5.0      3\n",
      "5     154        1     5.0      0\n",
      "6     155        1     5.0      0\n",
      "7     164        1     5.0      0\n",
      "8     228        1     5.0      0\n",
      "---------------------------------------\n",
      "       userId  musicId  rating  likes\n",
      "42427      70     3963     1.0      0\n",
      "42428      83     3963     1.0      0\n"
     ]
    }
   ],
   "source": [
    "#Song Rating Stat\n",
    "\n",
    "#Find Lowest and Highest rated songs:\n",
    "mean_rating = ratings.groupby('musicId')[['rating']].mean()\n",
    "\n",
    "#Lowest rated songs\n",
    "lowest_rated = mean_rating['rating'].idxmin()\n",
    "music.loc[music['musicId'] == lowest_rated]\n",
    "\n",
    "#Highest rated songs\n",
    "highest_rated = mean_rating['rating'].idxmax()\n",
    "music.loc[music['musicId'] == highest_rated]\n",
    "\n",
    "#Show information about the highest rated song\n",
    "print(ratings[ratings['musicId']==highest_rated])\n",
    "print(\"---------------------------------------\")\n",
    "\n",
    "#Show information about the lowest rated song\n",
    "print(ratings[ratings['musicId']==lowest_rated])"
   ]
  },
  {
   "cell_type": "markdown",
   "metadata": {},
   "source": [
    "#### Music Genre Preprocessing"
   ]
  },
  {
   "cell_type": "code",
   "execution_count": 7,
   "metadata": {},
   "outputs": [],
   "source": [
    "#Preprocess Genres\n",
    "from sklearn.preprocessing import MultiLabelBinarizer\n",
    "\n",
    "# Split genres into lists (e.g., [\"Pop\", \"Rock\", ...])\n",
    "music['genres'] = music['genre'].str.split('|')\n",
    "\n",
    "#One-hot encode genres\n",
    "mlb = MultiLabelBinarizer()\n",
    "genres_encoded = mlb.fit_transform(music['genres'])\n",
    "genres_df = pd.DataFrame(genres_encoded, columns=mlb.classes_, index=music['musicId'])"
   ]
  },
  {
   "cell_type": "markdown",
   "metadata": {},
   "source": [
    "#### Create CSR Matrix For Ratings & Likes"
   ]
  },
  {
   "cell_type": "code",
   "execution_count": 8,
   "metadata": {},
   "outputs": [],
   "source": [
    "#Create user-item matrix using scipy csr matrix\n",
    "def create_matrix(df):\n",
    "    \"\"\"\n",
    "    Creates a sparse matrix where rows = music, columns = users, values = ratings.\n",
    "    \"\"\"\n",
    "\n",
    "    N = len(df['userId'].unique())\n",
    "    M = len(df['musicId'].unique())\n",
    "\n",
    "    #Map Ids to indices\n",
    "    user_mapper = dict(zip(np.unique(df[\"userId\"]), list(range(N))))\n",
    "    music_mapper = dict(zip(np.unique(df[\"musicId\"]), list(range(M))))\n",
    "\n",
    "    #Map indices to IDs\n",
    "    user_inv_mapper = dict(zip(list(range(N)), np.unique(df[\"userId\"])))\n",
    "    music_inv_mapper = dict(zip(list(range(M)), np.unique(df[\"musicId\"])))\n",
    "\n",
    "    user_index = [user_mapper[i] for i in df['userId']]\n",
    "    music_index = [music_mapper[i] for i in df['musicId']]\n",
    "\n",
    "    X = csr_matrix((df[\"rating\"], (music_index, user_index)), shape=(M, N))\n",
    "\n",
    "    return X, user_mapper, music_mapper, user_inv_mapper, music_inv_mapper\n",
    "\n",
    "X, user_mapper, music_mapper, user_inv_mapper, music_inv_mapper = create_matrix(ratings)"
   ]
  },
  {
   "cell_type": "code",
   "execution_count": 9,
   "metadata": {},
   "outputs": [],
   "source": [
    "#Create X_likes (Sparse Matrix for Likes)\n",
    "def create_likes_matrix(df):\n",
    "    \"\"\"\n",
    "    Creates a sparse matrix where rows = music, columns = users, values = likes.\n",
    "    \"\"\"\n",
    "    N = len(df['userId'].unique())\n",
    "    M = len(df['musicId'].unique())\n",
    "    \n",
    "    #Map Ids to indices\n",
    "    user_mapper_likes = dict(zip(np.unique(df[\"userId\"]), list(range(N))))\n",
    "    music_mapper_likes = dict(zip(np.unique(df[\"musicId\"]), list(range(M))))\n",
    "\n",
    "    \n",
    "    user_index_likes = [user_mapper_likes[i] for i in df['userId']]\n",
    "    music_index_likes = [music_mapper_likes[i] for i in df['musicId']]\n",
    "    \n",
    "    X_likes = csr_matrix((df[\"likes\"], (music_index_likes, user_index_likes)), shape=(M, N))\n",
    "    return X_likes\n",
    "\n",
    "X_likes = create_likes_matrix(ratings)"
   ]
  },
  {
   "cell_type": "markdown",
   "metadata": {},
   "source": [
    "#### Create Hybrid Similarity Metric Function"
   ]
  },
  {
   "cell_type": "code",
   "execution_count": 10,
   "metadata": {},
   "outputs": [],
   "source": [
    "#Hybrid Similarity Metric Function\n",
    "from sklearn.metrics.pairwise import cosine_similarity\n",
    "\n",
    "def hybrid_similarity(music_id, X, X_likes, genres_df, rating_weight=0.5, likes_weight=0.3, genre_weight=0.2):\n",
    "    \"\"\"\n",
    "    Computes hybrid similarity using ratings, likes, and genres.\n",
    "    Returns: Combined similarity scores for all music relative to `music_id`.\n",
    "    \"\"\"\n",
    "    #Get the index of the target song\n",
    "    music_ind = music_mapper[music_id]\n",
    "    \n",
    "    #Rating-based similarity\n",
    "    rating_sim = cosine_similarity(X[music_ind], X).flatten()\n",
    "    \n",
    "    #Likes-based similarity (assuming X_likes is a sparse matrix of likes)\n",
    "    likes_sim = cosine_similarity(X_likes[music_ind], X_likes).flatten()\n",
    "    \n",
    "    #Genre-based similarity\n",
    "    genre_sim = cosine_similarity(genres_df.loc[music_id].values.reshape(1, -1), genres_df).flatten()\n",
    "    \n",
    "    #Combine similarities with weights\n",
    "    combined_sim = (\n",
    "        (rating_weight * rating_sim) + \n",
    "        (likes_weight * likes_sim) + \n",
    "        (genre_weight * genre_sim)\n",
    "    )\n",
    "    \n",
    "    return combined_sim"
   ]
  },
  {
   "cell_type": "markdown",
   "metadata": {},
   "source": [
    "#### Find Similar Songs"
   ]
  },
  {
   "cell_type": "code",
   "execution_count": 11,
   "metadata": {},
   "outputs": [
    {
     "name": "stdout",
     "output_type": "stream",
     "text": [
      "Since you listened to Sorry (PURPOSE : The Movement) (['Pop', 'Teen Pop']), here are similar songs:\n",
      "- Speed Of Sound (Official Video) (['Rock', 'Pop', 'Alternative Rock'])\n",
      "- NETFLIXXX (Video Oficial) (['Pop', 'Hip Hop', 'Spanish'])\n",
      "- Daddy Says No (['Pop', 'Australian', 'Singer-Songwriter'])\n",
      "- Earned It (from Fifty Shades Of Grey) (Official Lyric Video) (['Pop', 'Synth-Pop', 'Rnb'])\n",
      "- I'm Good (Blue) [Official Music Video] (['Pop', 'The Sims'])\n",
      "- Confident ft. Chance The Rapper (['Pop', 'Teen Pop'])\n",
      "- Prayer In C (Robin Schulz Remix) (Official) (['Pop', 'Alternative Rock', 'Folk'])\n",
      "- Intentions (Official Video (Short Version)) ft. Quavo (['Pop', 'Teen Pop'])\n",
      "- Baby ft. Ludacris (['Pop', 'Teen Pop'])\n",
      "- Permission To Dance (['Pop', 'Korean', 'K-Pop'])\n"
     ]
    }
   ],
   "source": [
    "#Find similar music with hybrid similarity model\n",
    "\n",
    "def find_similar_music_hybrid(music_id, X, X_likes, genres_df, k=10, rating_weight=0.5, likes_weight=0.3, genre_weight=0.2):\n",
    "    \"\"\"\n",
    "    Finds similar music using hybrid similarity (rating + likes + genre).\n",
    "    Returns: List of similar music IDs.\n",
    "    \"\"\"\n",
    "    #Compute hybrid similarity scores\n",
    "    sim_scores = hybrid_similarity(\n",
    "        music_id, \n",
    "        X, \n",
    "        X_likes, \n",
    "        genres_df, \n",
    "        rating_weight, \n",
    "        likes_weight, \n",
    "        genre_weight\n",
    "    )\n",
    "    \n",
    "    #Get top-k most similar music (excluding itself)\n",
    "    similar_music_indices = np.argsort(sim_scores)[-k-1:-1][::-1]  #Skip the highest (self)\n",
    "    similar_music_ids = [music_inv_mapper[idx] for idx in similar_music_indices]\n",
    "    \n",
    "    return similar_music_ids\n",
    "\n",
    "music_titles = dict(zip(music['musicId'], music['title']))\n",
    "\n",
    "music_id = 12 #5 #595  #Sample music ID\n",
    "\n",
    "#Get similar music IDs using hybrid similarity\n",
    "similar_ids = find_similar_music_hybrid(\n",
    "        music_id, \n",
    "        X,  #Sparse matrix of ratings\n",
    "        X_likes,    #Sparse matrix of likes\n",
    "        genres_df,   #One-hot encoded genres DataFrame\n",
    "        k=10,        #Number of recommendations\n",
    "        rating_weight=0.5, \n",
    "        likes_weight=0.3, \n",
    "        genre_weight=0.2\n",
    ")\n",
    "\n",
    "#Get the title and genre of the input music\n",
    "music_title = music_titles.get(music_id, \"Unknown Song\")\n",
    "music_genre = music.loc[music['musicId'] == music_id, 'genres'].iloc[0]\n",
    "\n",
    "#Print the results with genres\n",
    "print(f\"Since you listened to {music_title} ({music_genre}), here are similar songs:\")\n",
    "for song_id in similar_ids:\n",
    "    song_title = music_titles.get(song_id, \"Unknown Song\")\n",
    "    song_genre = music.loc[music['musicId'] == song_id, 'genres'].iloc[0]\n",
    "    print(f\"- {song_title} ({song_genre})\")"
   ]
  },
  {
   "cell_type": "code",
   "execution_count": 12,
   "metadata": {},
   "outputs": [
    {
     "name": "stdout",
     "output_type": "stream",
     "text": [
      "Since you listened to Uptown Funk (Official Video) ft. Bruno Mars (['Rock', 'Pop', 'Alternative Rock']), here is a list of similar songs:\n",
      "- MEJOR ME ALEJO (VIDEO OFICIAL) (['Banda', 'Pop', 'Regional Mexican', 'Corrido'])\n",
      "- Sin Querer (Video Oficial) (['Pop', 'Hip Hop', 'Dance-Pop'])\n",
      "- Tonight (I'm Lovin' You) ft. Ludacris, DJ Frank E (['Latin Pop', 'Latin'])\n",
      "- Blood Sweat & Tears (['Pop', 'Korean', 'K-Pop'])\n",
      "- Hey Ma ft Camila Cabello (Spanish Version | The Fate of the Furious: The Album) (['Pop', 'Hip Hop', 'Spanish'])\n",
      "- Ll√É¬©vame Contigo (Live from Madison Square Garden) (['Bachata', 'Bachata Pop', 'Latin'])\n",
      "- Baby I (Official Video) (['Pop', 'R&B', 'Dance-Pop', 'Contemporary R&B', 'Trap Soul'])\n",
      "- Mine (['Pop', 'Singer-Songwriter', 'Country'])\n",
      "- Try (The Truth About Love - Live From Los Angeles) (['pop, pop rock, dance-pop, contemporary r&b, electropop'])\n",
      "- Paradinha [Official Music Video] (['Brazilian Pop', 'Funk Pop', 'Funk Carioca', 'Funk', 'Pagode Baiano'])\n"
     ]
    }
   ],
   "source": [
    "#Find similar music using KNN model\n",
    "\n",
    "def find_similar_music(music_id, X, k, metric='cosine', show_distance=False):\n",
    "\n",
    "    neighbour_ids = []\n",
    "\n",
    "    music_ind = music_mapper[music_id]\n",
    "    music_vec = X[music_ind]\n",
    "    k+=1\n",
    "    kNN = NearestNeighbors(n_neighbors=k, algorithm=\"brute\", metric=metric)\n",
    "    kNN.fit(X)\n",
    "    music_vec = music_vec.reshape(1,-1)\n",
    "    neighbour = kNN.kneighbors(music_vec, return_distance=show_distance)\n",
    "    for i in range(0,k):\n",
    "        n = neighbour.item(i)\n",
    "        neighbour_ids.append(music_inv_mapper[n])\n",
    "    neighbour_ids.pop(0)\n",
    "    return neighbour_ids\n",
    "\n",
    "\n",
    "music_titles = dict(zip(music['musicId'], music['title']))\n",
    "\n",
    "music_id = 5 #595\n",
    "\n",
    "similar_ids = find_similar_music(music_id, X, k=10)\n",
    "music_title = music_titles[music_id]\n",
    "\n",
    "print(f\"Since you listened to {music_title} ({music.loc[music['musicId'] == music_id, 'genres'].iloc[0]}), here is a list of similar songs:\")\n",
    "for i in similar_ids:\n",
    "    print(f\"- {music_titles[i]} ({music.loc[music['musicId'] == i, 'genres'].iloc[0]})\")"
   ]
  },
  {
   "cell_type": "markdown",
   "metadata": {},
   "source": [
    "#### Recommend New Songs"
   ]
  },
  {
   "cell_type": "code",
   "execution_count": 13,
   "metadata": {},
   "outputs": [],
   "source": [
    "#Create function to recommend songs based on the users preference using hybrid model\n",
    "\n",
    "def recommend_music_for_user_hybrid(user_id, X, X_likes, genres_df, k=10):\n",
    "    \"\"\"\n",
    "    Recommends music based on the user's highest-rated music, using hybrid similarity.\n",
    "    \"\"\"\n",
    "    #Get the user's ratings\n",
    "    user_ratings = ratings[ratings['userId'] == user_id]\n",
    "    if user_ratings.empty:\n",
    "        print(f\"User {user_id} not found.\")\n",
    "        return\n",
    "    \n",
    "    #Get the highest-rated music ID\n",
    "    highest_rated_music_id = user_ratings.loc[user_ratings['rating'].idxmax(), 'musicId']\n",
    "    \n",
    "    #Verify the music exists in the catalog\n",
    "    if highest_rated_music_id not in music_titles:\n",
    "        print(f\"Music ID {highest_rated_music_id} not found in catalog.\")\n",
    "        return\n",
    "    \n",
    "    #Get music details\n",
    "    music_title = music_titles[highest_rated_music_id]\n",
    "    music_genre = music.loc[music['musicId'] == highest_rated_music_id, 'genres'].iloc[0]\n",
    "    \n",
    "    #Find similar music\n",
    "    similar_ids = find_similar_music_hybrid(\n",
    "        highest_rated_music_id, \n",
    "        X, \n",
    "        X_likes, \n",
    "        genres_df, \n",
    "        k=k\n",
    "    )\n",
    "    \n",
    "    #Display recommendations\n",
    "    print(f\"Since you listened to {music_title} ({music_genre}), you might also like:\")\n",
    "    for song_id in similar_ids:\n",
    "        if song_id in music_titles:  #Verify song exists before displaying\n",
    "            song_title = music_titles[song_id]\n",
    "            song_genre = music.loc[music['musicId'] == song_id, 'genres'].iloc[0]\n",
    "            print(f\"- {song_title} ({song_genre})\")\n",
    "        else:\n",
    "            print(f\"- Unknown song (ID: {song_id})\")"
   ]
  },
  {
   "cell_type": "code",
   "execution_count": 14,
   "metadata": {},
   "outputs": [],
   "source": [
    "#Create function to recommend songs based on the users preference using the KNN model.\n",
    "def recommend_music_for_user(user_id, X, user_mapper, music_mapper, music_inv_mapper, k=10):\n",
    "    df1 = ratings[ratings['userId'] == user_id]\n",
    "\n",
    "    if df1.empty:\n",
    "        print(f\"User with ID {user_id} does not exist.\")\n",
    "        return\n",
    "\n",
    "    music_id = df1[df1['rating'] == max(df1['rating'])]['musicId'].iloc[0]\n",
    "\n",
    "    music_titles = dict(zip(music['musicId'], music['title']))\n",
    "\n",
    "    similar_ids = find_similar_music(music_id, X, k)\n",
    "    music_title = music_titles.get(music_id, \"Song not found\")\n",
    "\n",
    "    if music_title == \"Song not found\":\n",
    "        print(f\"Song with ID {music_id} not found.\")\n",
    "        return\n",
    "\n",
    "    print(f\"Since you listened to {music_title} ({music.loc[music['musicId'] == music_id, 'genres'].iloc[0]}), you might also like:\")\n",
    "    for i in similar_ids:\n",
    "        print(f\"- {music_titles.get(i, 'Song not found')} ({music.loc[music['musicId'] == i, 'genres'].iloc[0]})\")"
   ]
  },
  {
   "cell_type": "code",
   "execution_count": 15,
   "metadata": {},
   "outputs": [
    {
     "name": "stdout",
     "output_type": "stream",
     "text": [
      "Since you listened to Sugar (Official Music Video) (['Pop']), you might also like:\n",
      "- All In My Head (Flex) (Official Video) ft. Fetty Wap (['Pop'])\n",
      "- Treat You Better (['Pop'])\n",
      "- Misery (Official Music Video) (['Pop'])\n",
      "- J'oublie tout [Son Officiel] (['Pop'])\n",
      "- Look At Her Now (Official Music Video) (['Pop'])\n",
      "- Aunque Ahora Est√É¬©s Con √É¬âl (['Banda', 'Corrido', 'Latin', 'Regional Mexicano', 'Sierreño'])\n",
      "- Dive [Official Audio] (['Pop', 'Folk Pop', 'Dance-Pop', 'Folk', 'Singer-Songwriter'])\n",
      "- Somebody To You ft. Demi Lovato (['Pop'])\n",
      "- Min Awel Dekika [Official Video] (2022) / √ò¬ß√ô¬Ñ√ô¬ä√ò¬≥√ò¬ß √ô¬à√ò¬≥√ò¬π√ò¬Ø √ô¬Ñ√ô¬Ö√ò¬¨√ò¬±√ò¬Ø - √ô¬Ö√ô¬Ü √ò¬£√ô¬à√ô¬Ñ √ò¬Ø√ô¬Ç√ô¬ä√ô¬Ç√ò¬© (['Pop'])\n",
      "- Mercy (Official Music Video) (['Pop'])\n"
     ]
    }
   ],
   "source": [
    "recommend_music_for_user_hybrid(user_id=5, X=X, X_likes=X_likes, genres_df=genres_df, k=10)"
   ]
  },
  {
   "cell_type": "code",
   "execution_count": 16,
   "metadata": {},
   "outputs": [
    {
     "name": "stdout",
     "output_type": "stream",
     "text": [
      "Since you listened to Sugar (Official Music Video) (['Pop']), you might also like:\n",
      "- Aunque Ahora Est√É¬©s Con √É¬âl (['Banda', 'Corrido', 'Latin', 'Regional Mexicano', 'Sierreño'])\n",
      "- Litr√É¬£o (Ao Vivo Em Recife / 2020) (['Country', 'Pop', 'Sertanejo'])\n",
      "- Si T√É¬∫ Supieras (Video Oficial) (['Mariachi', 'Ranchera', 'Latin Pop', 'Bolero'])\n",
      "- Ms. Jackson (MattyBRaps Cover) (['Southern Hip Hop', 'Hip Hop'])\n",
      "- Rabiosa (English Version) ft. Pitbull (['Latin Pop'])\n",
      "- Dive [Official Audio] (['Pop', 'Folk Pop', 'Dance-Pop', 'Folk', 'Singer-Songwriter'])\n",
      "- Rojo (Official Video) (['Reggaeton', 'Latin'])\n",
      "- Piu√É¬≠ Abacaxi (DVD Colet√É¬¢nea de Sucessos) (['Lullaby', 'Childrens Music'])\n",
      "- Necio (Audio) ft. Santana (['Bachata', 'Bachata Pop', 'Latin'])\n",
      "- Quarta Cadeira (Ao Vivo Em Goi√É¬¢nia / 2018) ft. Jorge & Mateus (['Country', 'Pop', 'Sertanejo'])\n"
     ]
    }
   ],
   "source": [
    "user_id = 5  #Replace with the desired user ID\n",
    "recommend_music_for_user(user_id, X, user_mapper, music_mapper, music_inv_mapper, k=10)"
   ]
  }
 ],
 "metadata": {
  "kernelspec": {
   "display_name": "Python 3",
   "language": "python",
   "name": "python3"
  },
  "language_info": {
   "codemirror_mode": {
    "name": "ipython",
    "version": 3
   },
   "file_extension": ".py",
   "mimetype": "text/x-python",
   "name": "python",
   "nbconvert_exporter": "python",
   "pygments_lexer": "ipython3",
   "version": "3.9.21"
  }
 },
 "nbformat": 4,
 "nbformat_minor": 2
}
