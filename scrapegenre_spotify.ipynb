{
 "cells": [
  {
   "cell_type": "code",
   "execution_count": null,
   "metadata": {},
   "outputs": [],
   "source": [
    "import spotipy\n",
    "from spotipy.oauth2 import SpotifyClientCredentials\n",
    "import pandas as pd\n",
    "import logging\n",
    "\n",
    "# Set up logging\n",
    "logging.basicConfig(level=logging.DEBUG)\n",
    "\n",
    "# Spotify credentials\n",
    "client_id = 'client_id'\n",
    "client_secret = 'client_secret'\n",
    "try:\n",
    "    client_credentials_manager = SpotifyClientCredentials(\n",
    "        client_id=client_id,\n",
    "        client_secret=client_secret,\n",
    "        cache_path='./.cache'\n",
    "    )\n",
    "    sp = spotipy.Spotify(client_credentials_manager=client_credentials_manager)\n",
    "except Exception as e:\n",
    "    print(f\"Error setting up Spotify client: {e}\")\n",
    "    exit(1)\n",
    "\n",
    "# Load your song data\n",
    "df = pd.read_csv('/Users/oluayinde/Downloads/youtube_data - genre.csv')\n",
    "\n",
    "def get_artist_genre(artist_name):\n",
    "    try:\n",
    "        result = sp.search(q='artist:' + artist_name, type='artist', limit=1)\n",
    "        artist = result['artists']['items'][0]\n",
    "        genres = artist['genres']\n",
    "        return genres if genres else ['Unknown']\n",
    "    except Exception as e:\n",
    "        print(f\"Error fetching genre for {artist_name}: {e}\")\n",
    "        return ['Unknown']\n",
    "\n",
    "# Apply genre lookup\n",
    "df['genres'] = df['artist'].apply(get_artist_genre)\n",
    "df.to_csv('/Users/oluayinde/Downloads/songs_with_genres.csv', index=False)\n",
    "print(df)"
   ]
  }
 ],
 "metadata": {
  "kernelspec": {
   "display_name": "Python 3",
   "language": "python",
   "name": "python3"
  },
  "language_info": {
   "codemirror_mode": {
    "name": "ipython",
    "version": 3
   },
   "file_extension": ".py",
   "mimetype": "text/x-python",
   "name": "python",
   "nbconvert_exporter": "python",
   "pygments_lexer": "ipython3",
   "version": "3.9.21"
  }
 },
 "nbformat": 4,
 "nbformat_minor": 2
}
